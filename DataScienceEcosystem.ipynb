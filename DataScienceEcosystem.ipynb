{
 "cells": [
  {
   "cell_type": "markdown",
   "id": "0bd1103a-6b92-49c4-b57d-37d6ef7f048c",
   "metadata": {
    "tags": []
   },
   "source": [
    "# Data Science Tools and Ecosystem"
   ]
  },
  {
   "cell_type": "markdown",
   "id": "371486f4-818e-401c-8fec-e223fcfafd06",
   "metadata": {},
   "source": [
    "In this notebook, Data Science Tools and Ecosystem are summarized."
   ]
  },
  {
   "cell_type": "markdown",
   "id": "cb8365ed-7e45-4a87-ba33-a4604bb646d5",
   "metadata": {},
   "source": [
    "Some of the popular languages that Data Scientists use are:\n",
    "1. Python\n",
    "2. R\n",
    "3. Julia\n",
    "4. SQL"
   ]
  },
  {
   "cell_type": "markdown",
   "id": "e6749d1a-bd39-4d30-b8fb-b5e07f0c2169",
   "metadata": {},
   "source": [
    "Some of the commonly used libraries used by Data Scientists include:\n",
    "1. Numpy\n",
    "2. Scikit-learn\n",
    "3. Matplotlib\n",
    "4. Seaborn"
   ]
  },
  {
   "cell_type": "markdown",
   "id": "d9d66347-6a07-41c3-af6d-3ee8e50e0a83",
   "metadata": {},
   "source": [
    "|Data Science Tools|\n",
    "|---|\n",
    "|Jupyter Notebook|\n",
    "|Spyder|\n",
    "|Tensorflow|"
   ]
  },
  {
   "cell_type": "markdown",
   "id": "756d5353-434d-4792-abeb-d9f3f1cd76b8",
   "metadata": {},
   "source": [
    "### Below are a few examples of evaluating arithmetic expressions in Python"
   ]
  },
  {
   "cell_type": "code",
   "execution_count": 1,
   "id": "54c697f2-1f79-4ebd-8fc7-340eecb8fb8c",
   "metadata": {
    "tags": []
   },
   "outputs": [
    {
     "data": {
      "text/plain": [
       "17"
      ]
     },
     "execution_count": 1,
     "metadata": {},
     "output_type": "execute_result"
    }
   ],
   "source": [
    "# This a simple arithmetic expression to mutiply then add integers\n",
    "(3*4)+5"
   ]
  },
  {
   "cell_type": "code",
   "execution_count": 2,
   "id": "e36bc10b-e054-4f0f-a562-c6c7819e5795",
   "metadata": {
    "tags": []
   },
   "outputs": [
    {
     "data": {
      "text/plain": [
       "3.3333333333333335"
      ]
     },
     "execution_count": 2,
     "metadata": {},
     "output_type": "execute_result"
    }
   ],
   "source": [
    "# This will convert 200 minutes to hours by diving by 60\n",
    "200/60"
   ]
  },
  {
   "cell_type": "markdown",
   "id": "ca4466c5-699a-4db9-99de-86c31a1aedd1",
   "metadata": {},
   "source": [
    "__Objectives__\n",
    "* List of some of the popular languages in data science\n",
    "* List of some of the commonly used libraries in data science\n",
    "* List of some of data science tools\n",
    "* Examples of arithmetic expressions in Python"
   ]
  },
  {
   "cell_type": "markdown",
   "id": "4193d403-ddfc-4ebc-846c-d6c39d8fb66c",
   "metadata": {},
   "source": [
    "## Author\n",
    "Muhammad Suhaili"
   ]
  },
  {
   "cell_type": "code",
   "execution_count": null,
   "id": "847d16e3-88dd-42ab-838e-bbc94887aacf",
   "metadata": {},
   "outputs": [],
   "source": []
  }
 ],
 "metadata": {
  "kernelspec": {
   "display_name": "Python",
   "language": "python",
   "name": "conda-env-python-py"
  },
  "language_info": {
   "codemirror_mode": {
    "name": "ipython",
    "version": 3
   },
   "file_extension": ".py",
   "mimetype": "text/x-python",
   "name": "python",
   "nbconvert_exporter": "python",
   "pygments_lexer": "ipython3",
   "version": "3.7.12"
  }
 },
 "nbformat": 4,
 "nbformat_minor": 5
}
